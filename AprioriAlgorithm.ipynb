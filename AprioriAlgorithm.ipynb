{
 "cells": [
  {
   "cell_type": "code",
   "execution_count": 49,
   "id": "dd830f5e",
   "metadata": {},
   "outputs": [
    {
     "name": "stdout",
     "output_type": "stream",
     "text": [
      "Collecting efficient_apriori\n",
      "  Using cached efficient_apriori-2.0.1-py3-none-any.whl (14 kB)\n",
      "Installing collected packages: efficient-apriori\n",
      "Successfully installed efficient-apriori-2.0.1\n"
     ]
    }
   ],
   "source": [
    "try:\n",
    "    import efficient_apriori\n",
    "except:\n",
    "    !pip install efficient_apriori"
   ]
  },
  {
   "cell_type": "code",
   "execution_count": 55,
   "id": "e15b9df0",
   "metadata": {},
   "outputs": [],
   "source": [
    "import pandas as pd\n",
    "import numpy as np\n",
    "\n",
    "from mlxtend.preprocessing import TransactionEncoder\n",
    "from mlxtend.frequent_patterns import apriori\n",
    "\n",
    "from efficient_apriori import apriori as apriori1"
   ]
  },
  {
   "cell_type": "code",
   "execution_count": 127,
   "id": "c3c2ebda",
   "metadata": {},
   "outputs": [
    {
     "data": {
      "text/html": [
       "<div>\n",
       "<style scoped>\n",
       "    .dataframe tbody tr th:only-of-type {\n",
       "        vertical-align: middle;\n",
       "    }\n",
       "\n",
       "    .dataframe tbody tr th {\n",
       "        vertical-align: top;\n",
       "    }\n",
       "\n",
       "    .dataframe thead th {\n",
       "        text-align: right;\n",
       "    }\n",
       "</style>\n",
       "<table border=\"1\" class=\"dataframe\">\n",
       "  <thead>\n",
       "    <tr style=\"text-align: right;\">\n",
       "      <th></th>\n",
       "      <th>Member_number</th>\n",
       "      <th>Date</th>\n",
       "      <th>itemDescription</th>\n",
       "    </tr>\n",
       "  </thead>\n",
       "  <tbody>\n",
       "    <tr>\n",
       "      <th>0</th>\n",
       "      <td>1808</td>\n",
       "      <td>21-07-2015</td>\n",
       "      <td>tropical fruit</td>\n",
       "    </tr>\n",
       "    <tr>\n",
       "      <th>1</th>\n",
       "      <td>2552</td>\n",
       "      <td>05-01-2015</td>\n",
       "      <td>whole milk</td>\n",
       "    </tr>\n",
       "    <tr>\n",
       "      <th>2</th>\n",
       "      <td>2300</td>\n",
       "      <td>19-09-2015</td>\n",
       "      <td>pip fruit</td>\n",
       "    </tr>\n",
       "    <tr>\n",
       "      <th>3</th>\n",
       "      <td>1187</td>\n",
       "      <td>12-12-2015</td>\n",
       "      <td>other vegetables</td>\n",
       "    </tr>\n",
       "    <tr>\n",
       "      <th>4</th>\n",
       "      <td>3037</td>\n",
       "      <td>01-02-2015</td>\n",
       "      <td>whole milk</td>\n",
       "    </tr>\n",
       "  </tbody>\n",
       "</table>\n",
       "</div>"
      ],
      "text/plain": [
       "   Member_number        Date   itemDescription\n",
       "0           1808  21-07-2015    tropical fruit\n",
       "1           2552  05-01-2015        whole milk\n",
       "2           2300  19-09-2015         pip fruit\n",
       "3           1187  12-12-2015  other vegetables\n",
       "4           3037  01-02-2015        whole milk"
      ]
     },
     "execution_count": 127,
     "metadata": {},
     "output_type": "execute_result"
    }
   ],
   "source": [
    "data = pd.read_csv(\"Groceries_dataset.csv\")\n",
    "data.head()"
   ]
  },
  {
   "cell_type": "code",
   "execution_count": 128,
   "id": "1a9326d7",
   "metadata": {},
   "outputs": [],
   "source": [
    "array = []\n",
    "for member in data['Member_number'].unique():\n",
    "    unique_member = data.loc[data['Member_number'] == member]\n",
    "    for day in unique_member['Date'].unique():\n",
    "        same_day = unique_member.loc[unique_member['Date'] == day]\n",
    "        array.append(list(same_day['itemDescription']))\n",
    "        \n",
    "        "
   ]
  },
  {
   "cell_type": "code",
   "execution_count": 129,
   "id": "ff93c2dc",
   "metadata": {},
   "outputs": [
    {
     "data": {
      "text/plain": [
       "[['tropical fruit', 'rolls/buns', 'candy'],\n",
       " ['long life bakery product', 'semi-finished bread'],\n",
       " ['meat', 'whole milk'],\n",
       " ['sugar', 'citrus fruit', 'napkins'],\n",
       " ['whole milk', 'tropical fruit', 'chocolate'],\n",
       " ['butter', 'root vegetables'],\n",
       " ['female sanitary products', 'whole milk', 'hygiene articles'],\n",
       " ['pot plants', 'shopping bags', 'coffee'],\n",
       " ['other vegetables', 'chocolate'],\n",
       " ['pip fruit', 'other vegetables', 'flour']]"
      ]
     },
     "execution_count": 129,
     "metadata": {},
     "output_type": "execute_result"
    }
   ],
   "source": [
    "array[:10]"
   ]
  },
  {
   "cell_type": "markdown",
   "id": "877a2094",
   "metadata": {},
   "source": [
    "# Using mxtendl\n"
   ]
  },
  {
   "cell_type": "code",
   "execution_count": 102,
   "id": "78d1738d",
   "metadata": {},
   "outputs": [],
   "source": [
    "tre = TransactionEncoder()\n",
    "tre_arr = tre.fit(array).transform(array)\n",
    "df = pd.DataFrame(tre_arr, columns = tre.columns_)"
   ]
  },
  {
   "cell_type": "code",
   "execution_count": 170,
   "id": "3ea8ee77",
   "metadata": {},
   "outputs": [],
   "source": [
    "from mlxtend.frequent_patterns import apriori\n",
    "\n",
    "detail = apriori(df, min_support=0.0003,use_colnames=True)\n",
    "#detail.sort_values('support',ascending = False)[:10]"
   ]
  },
  {
   "cell_type": "code",
   "execution_count": 171,
   "id": "50caa728",
   "metadata": {},
   "outputs": [],
   "source": [
    "detail['length'] = detail['itemsets'].apply(lambda x: len(x))"
   ]
  },
  {
   "cell_type": "code",
   "execution_count": 172,
   "id": "7bf542d2",
   "metadata": {},
   "outputs": [
    {
     "data": {
      "text/html": [
       "<div>\n",
       "<style scoped>\n",
       "    .dataframe tbody tr th:only-of-type {\n",
       "        vertical-align: middle;\n",
       "    }\n",
       "\n",
       "    .dataframe tbody tr th {\n",
       "        vertical-align: top;\n",
       "    }\n",
       "\n",
       "    .dataframe thead th {\n",
       "        text-align: right;\n",
       "    }\n",
       "</style>\n",
       "<table border=\"1\" class=\"dataframe\">\n",
       "  <thead>\n",
       "    <tr style=\"text-align: right;\">\n",
       "      <th></th>\n",
       "      <th>support</th>\n",
       "      <th>itemsets</th>\n",
       "      <th>length</th>\n",
       "    </tr>\n",
       "  </thead>\n",
       "  <tbody>\n",
       "    <tr>\n",
       "      <th>1</th>\n",
       "      <td>0.021386</td>\n",
       "      <td>(UHT-milk)</td>\n",
       "      <td>1</td>\n",
       "    </tr>\n",
       "    <tr>\n",
       "      <th>14</th>\n",
       "      <td>0.017577</td>\n",
       "      <td>(butter milk)</td>\n",
       "      <td>1</td>\n",
       "    </tr>\n",
       "    <tr>\n",
       "      <th>33</th>\n",
       "      <td>0.006549</td>\n",
       "      <td>(condensed milk)</td>\n",
       "      <td>1</td>\n",
       "    </tr>\n",
       "    <tr>\n",
       "      <th>160</th>\n",
       "      <td>0.157923</td>\n",
       "      <td>(whole milk)</td>\n",
       "      <td>1</td>\n",
       "    </tr>\n",
       "  </tbody>\n",
       "</table>\n",
       "</div>"
      ],
      "text/plain": [
       "      support          itemsets  length\n",
       "1    0.021386        (UHT-milk)       1\n",
       "14   0.017577     (butter milk)       1\n",
       "33   0.006549  (condensed milk)       1\n",
       "160  0.157923      (whole milk)       1"
      ]
     },
     "execution_count": 172,
     "metadata": {},
     "output_type": "execute_result"
    }
   ],
   "source": [
    "detail[(detail['itemsets'].apply(lambda x: 'milk' in str(x)))\n",
    "       & (detail['length'] == 1)]"
   ]
  },
  {
   "cell_type": "code",
   "execution_count": 199,
   "id": "100eae7c",
   "metadata": {},
   "outputs": [
    {
     "data": {
      "text/html": [
       "<div>\n",
       "<style scoped>\n",
       "    .dataframe tbody tr th:only-of-type {\n",
       "        vertical-align: middle;\n",
       "    }\n",
       "\n",
       "    .dataframe tbody tr th {\n",
       "        vertical-align: top;\n",
       "    }\n",
       "\n",
       "    .dataframe thead th {\n",
       "        text-align: right;\n",
       "    }\n",
       "</style>\n",
       "<table border=\"1\" class=\"dataframe\">\n",
       "  <thead>\n",
       "    <tr style=\"text-align: right;\">\n",
       "      <th></th>\n",
       "      <th>support</th>\n",
       "      <th>itemsets</th>\n",
       "      <th>length</th>\n",
       "    </tr>\n",
       "  </thead>\n",
       "  <tbody>\n",
       "    <tr>\n",
       "      <th>20</th>\n",
       "      <td>0.001403</td>\n",
       "      <td>(canned fruit)</td>\n",
       "      <td>1</td>\n",
       "    </tr>\n",
       "    <tr>\n",
       "      <th>28</th>\n",
       "      <td>0.053131</td>\n",
       "      <td>(citrus fruit)</td>\n",
       "      <td>1</td>\n",
       "    </tr>\n",
       "    <tr>\n",
       "      <th>58</th>\n",
       "      <td>0.000735</td>\n",
       "      <td>(frozen fruits)</td>\n",
       "      <td>1</td>\n",
       "    </tr>\n",
       "    <tr>\n",
       "      <th>62</th>\n",
       "      <td>0.034017</td>\n",
       "      <td>(fruit/vegetable juice)</td>\n",
       "      <td>1</td>\n",
       "    </tr>\n",
       "    <tr>\n",
       "      <th>100</th>\n",
       "      <td>0.008488</td>\n",
       "      <td>(packaged fruit/vegetables)</td>\n",
       "      <td>1</td>\n",
       "    </tr>\n",
       "    <tr>\n",
       "      <th>106</th>\n",
       "      <td>0.049054</td>\n",
       "      <td>(pip fruit)</td>\n",
       "      <td>1</td>\n",
       "    </tr>\n",
       "    <tr>\n",
       "      <th>152</th>\n",
       "      <td>0.067767</td>\n",
       "      <td>(tropical fruit)</td>\n",
       "      <td>1</td>\n",
       "    </tr>\n",
       "  </tbody>\n",
       "</table>\n",
       "</div>"
      ],
      "text/plain": [
       "      support                     itemsets  length\n",
       "20   0.001403               (canned fruit)       1\n",
       "28   0.053131               (citrus fruit)       1\n",
       "58   0.000735              (frozen fruits)       1\n",
       "62   0.034017      (fruit/vegetable juice)       1\n",
       "100  0.008488  (packaged fruit/vegetables)       1\n",
       "106  0.049054                  (pip fruit)       1\n",
       "152  0.067767             (tropical fruit)       1"
      ]
     },
     "execution_count": 199,
     "metadata": {},
     "output_type": "execute_result"
    }
   ],
   "source": [
    "detail[(detail['itemsets'].apply(lambda x: 'fruit' in str(x)))\n",
    "       & (detail['length'] == 1)]"
   ]
  },
  {
   "cell_type": "code",
   "execution_count": 193,
   "id": "3ad056b9",
   "metadata": {},
   "outputs": [
    {
     "data": {
      "text/html": [
       "<div>\n",
       "<style scoped>\n",
       "    .dataframe tbody tr th:only-of-type {\n",
       "        vertical-align: middle;\n",
       "    }\n",
       "\n",
       "    .dataframe tbody tr th {\n",
       "        vertical-align: top;\n",
       "    }\n",
       "\n",
       "    .dataframe thead th {\n",
       "        text-align: right;\n",
       "    }\n",
       "</style>\n",
       "<table border=\"1\" class=\"dataframe\">\n",
       "  <thead>\n",
       "    <tr style=\"text-align: right;\">\n",
       "      <th></th>\n",
       "      <th>support</th>\n",
       "      <th>itemsets</th>\n",
       "      <th>length</th>\n",
       "    </tr>\n",
       "  </thead>\n",
       "  <tbody>\n",
       "    <tr>\n",
       "      <th>1723</th>\n",
       "      <td>0.014837</td>\n",
       "      <td>(other vegetables, whole milk)</td>\n",
       "      <td>2</td>\n",
       "    </tr>\n",
       "    <tr>\n",
       "      <th>1888</th>\n",
       "      <td>0.013968</td>\n",
       "      <td>(rolls/buns, whole milk)</td>\n",
       "      <td>2</td>\n",
       "    </tr>\n",
       "    <tr>\n",
       "      <th>1994</th>\n",
       "      <td>0.011629</td>\n",
       "      <td>(soda, whole milk)</td>\n",
       "      <td>2</td>\n",
       "    </tr>\n",
       "    <tr>\n",
       "      <th>2046</th>\n",
       "      <td>0.011161</td>\n",
       "      <td>(yogurt, whole milk)</td>\n",
       "      <td>2</td>\n",
       "    </tr>\n",
       "    <tr>\n",
       "      <th>1698</th>\n",
       "      <td>0.010559</td>\n",
       "      <td>(rolls/buns, other vegetables)</td>\n",
       "      <td>2</td>\n",
       "    </tr>\n",
       "    <tr>\n",
       "      <th>1707</th>\n",
       "      <td>0.009691</td>\n",
       "      <td>(soda, other vegetables)</td>\n",
       "      <td>2</td>\n",
       "    </tr>\n",
       "    <tr>\n",
       "      <th>1945</th>\n",
       "      <td>0.008955</td>\n",
       "      <td>(sausage, whole milk)</td>\n",
       "      <td>2</td>\n",
       "    </tr>\n",
       "    <tr>\n",
       "      <th>2031</th>\n",
       "      <td>0.008220</td>\n",
       "      <td>(tropical fruit, whole milk)</td>\n",
       "      <td>2</td>\n",
       "    </tr>\n",
       "    <tr>\n",
       "      <th>1724</th>\n",
       "      <td>0.008087</td>\n",
       "      <td>(yogurt, other vegetables)</td>\n",
       "      <td>2</td>\n",
       "    </tr>\n",
       "    <tr>\n",
       "      <th>1874</th>\n",
       "      <td>0.008087</td>\n",
       "      <td>(rolls/buns, soda)</td>\n",
       "      <td>2</td>\n",
       "    </tr>\n",
       "  </tbody>\n",
       "</table>\n",
       "</div>"
      ],
      "text/plain": [
       "       support                        itemsets  length\n",
       "1723  0.014837  (other vegetables, whole milk)       2\n",
       "1888  0.013968        (rolls/buns, whole milk)       2\n",
       "1994  0.011629              (soda, whole milk)       2\n",
       "2046  0.011161            (yogurt, whole milk)       2\n",
       "1698  0.010559  (rolls/buns, other vegetables)       2\n",
       "1707  0.009691        (soda, other vegetables)       2\n",
       "1945  0.008955           (sausage, whole milk)       2\n",
       "2031  0.008220    (tropical fruit, whole milk)       2\n",
       "1724  0.008087      (yogurt, other vegetables)       2\n",
       "1874  0.008087              (rolls/buns, soda)       2"
      ]
     },
     "execution_count": 193,
     "metadata": {},
     "output_type": "execute_result"
    }
   ],
   "source": [
    "detail['length'] = detail['itemsets'].apply(lambda x: len(x))\n",
    "detail[(detail['length'] >= 2)].sort_values('support',ascending = False)[:10]"
   ]
  },
  {
   "cell_type": "markdown",
   "id": "6c321ad2",
   "metadata": {},
   "source": [
    "# Using efficient_apriori"
   ]
  },
  {
   "cell_type": "code",
   "execution_count": 197,
   "id": "a0de5a1c",
   "metadata": {},
   "outputs": [],
   "source": [
    "itemsets, rules = apriori1(array, min_support=0.001, min_confidence=0.1,output_transaction_ids=True)\n",
    "results = list(rules)"
   ]
  },
  {
   "cell_type": "code",
   "execution_count": 198,
   "id": "189181e3",
   "metadata": {},
   "outputs": [
    {
     "name": "stdout",
     "output_type": "stream",
     "text": [
      "{whole milk, yogurt} -> {sausage} (conf: 0.132, supp: 0.001, lift: 2.183, conv: 1.082)\n",
      "{sausage, yogurt} -> {whole milk} (conf: 0.256, supp: 0.001, lift: 1.620, conv: 1.132)\n",
      "{sausage, whole milk} -> {yogurt} (conf: 0.164, supp: 0.001, lift: 1.912, conv: 1.094)\n",
      "{whole milk, yogurt} -> {rolls/buns} (conf: 0.120, supp: 0.001, lift: 1.089, conv: 1.011)\n",
      "{rolls/buns, yogurt} -> {whole milk} (conf: 0.171, supp: 0.001, lift: 1.082, conv: 1.016)\n",
      "{other vegetables, rolls/buns} -> {whole milk} (conf: 0.114, supp: 0.001, lift: 0.721, conv: 0.950)\n",
      "{rolls/buns, soda} -> {other vegetables} (conf: 0.140, supp: 0.001, lift: 1.151, conv: 1.021)\n",
      "{other vegetables, soda} -> {rolls/buns} (conf: 0.117, supp: 0.001, lift: 1.066, conv: 1.008)\n",
      "{other vegetables, rolls/buns} -> {soda} (conf: 0.108, supp: 0.001, lift: 1.108, conv: 1.012)\n",
      "{other vegetables, soda} -> {whole milk} (conf: 0.117, supp: 0.001, lift: 0.742, conv: 0.954)\n",
      "{whole milk, yogurt} -> {other vegetables} (conf: 0.102, supp: 0.001, lift: 0.834, conv: 0.977)\n",
      "{other vegetables, yogurt} -> {whole milk} (conf: 0.140, supp: 0.001, lift: 0.890, conv: 0.980)\n",
      "{sausage, whole milk} -> {rolls/buns} (conf: 0.127, supp: 0.001, lift: 1.153, conv: 1.019)\n",
      "{rolls/buns, sausage} -> {whole milk} (conf: 0.212, supp: 0.001, lift: 1.346, conv: 1.069)\n",
      "{sausage, whole milk} -> {soda} (conf: 0.119, supp: 0.001, lift: 1.230, conv: 1.025)\n",
      "{sausage, soda} -> {whole milk} (conf: 0.180, supp: 0.001, lift: 1.138, conv: 1.027)\n",
      "{rolls/buns, soda} -> {whole milk} (conf: 0.124, supp: 0.001, lift: 0.785, conv: 0.961)\n"
     ]
    }
   ],
   "source": [
    "rules_rhs = filter(lambda rule: len(rule.lhs) == 2 and len(rule.rhs) == 1, rules)\n",
    "for rule in sorted(rules_rhs, key=lambda rule: rule.support, reverse = True):\n",
    "  print(rule)"
   ]
  },
  {
   "cell_type": "code",
   "execution_count": 201,
   "id": "8141f85c",
   "metadata": {},
   "outputs": [],
   "source": [
    "itemsets, rules = apriori1(array, min_support=0.0003, min_confidence=0.01,output_transaction_ids=True)\n",
    "results = list(rules)"
   ]
  },
  {
   "cell_type": "code",
   "execution_count": 202,
   "id": "eed24e3d",
   "metadata": {},
   "outputs": [
    {
     "name": "stdout",
     "output_type": "stream",
     "text": [
      "{soda, whole milk} -> {other vegetables, pastry} (conf: 0.029, supp: 0.000, lift: 7.818, conv: 1.026)\n",
      "{pastry, whole milk} -> {other vegetables, soda} (conf: 0.052, supp: 0.000, lift: 5.319, conv: 1.044)\n",
      "{pastry, soda} -> {other vegetables, whole milk} (conf: 0.082, supp: 0.000, lift: 5.525, conv: 1.073)\n",
      "{other vegetables, whole milk} -> {pastry, soda} (conf: 0.023, supp: 0.000, lift: 5.525, conv: 1.019)\n",
      "{other vegetables, soda} -> {pastry, whole milk} (conf: 0.034, supp: 0.000, lift: 5.319, conv: 1.029)\n",
      "{other vegetables, pastry} -> {soda, whole milk} (conf: 0.091, supp: 0.000, lift: 7.818, conv: 1.087)\n",
      "{whole milk, yogurt} -> {rolls/buns, sausage} (conf: 0.030, supp: 0.000, lift: 5.600, conv: 1.025)\n",
      "{sausage, yogurt} -> {rolls/buns, whole milk} (conf: 0.058, supp: 0.000, lift: 4.162, conv: 1.047)\n",
      "{sausage, whole milk} -> {rolls/buns, yogurt} (conf: 0.037, supp: 0.000, lift: 4.772, conv: 1.031)\n",
      "{rolls/buns, yogurt} -> {sausage, whole milk} (conf: 0.043, supp: 0.000, lift: 4.772, conv: 1.035)\n",
      "{rolls/buns, whole milk} -> {sausage, yogurt} (conf: 0.024, supp: 0.000, lift: 4.162, conv: 1.019)\n",
      "{rolls/buns, sausage} -> {whole milk, yogurt} (conf: 0.062, supp: 0.000, lift: 5.600, conv: 1.055)\n"
     ]
    }
   ],
   "source": [
    "rules_rhs = filter(lambda rule: len(rule.lhs) == 2 and len(rule.rhs) == 2, rules)\n",
    "for rule in sorted(rules_rhs, key=lambda rule: rule.support, reverse = True):\n",
    "  print(rule)"
   ]
  },
  {
   "cell_type": "code",
   "execution_count": null,
   "id": "f1de9182",
   "metadata": {},
   "outputs": [],
   "source": []
  }
 ],
 "metadata": {
  "kernelspec": {
   "display_name": "Python 3",
   "language": "python",
   "name": "python3"
  },
  "language_info": {
   "codemirror_mode": {
    "name": "ipython",
    "version": 3
   },
   "file_extension": ".py",
   "mimetype": "text/x-python",
   "name": "python",
   "nbconvert_exporter": "python",
   "pygments_lexer": "ipython3",
   "version": "3.8.8"
  }
 },
 "nbformat": 4,
 "nbformat_minor": 5
}
